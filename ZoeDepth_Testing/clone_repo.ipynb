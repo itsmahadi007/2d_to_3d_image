{
 "cells": [
  {
   "cell_type": "markdown",
   "source": [],
   "metadata": {
    "collapsed": false
   },
   "id": "2b264eea11a1b123"
  },
  {
   "cell_type": "code",
   "execution_count": 1,
   "outputs": [
    {
     "name": "stderr",
     "output_type": "stream",
     "text": [
      "Cloning into 'ZoeDepth'...\n"
     ]
    }
   ],
   "source": [
    "!git clone https://github.com/isl-org/ZoeDepth.git && cd ZoeDepth/"
   ],
   "metadata": {
    "collapsed": false,
    "ExecuteTime": {
     "end_time": "2023-08-29T17:08:04.056886400Z",
     "start_time": "2023-08-29T17:08:01.727970100Z"
    }
   },
   "id": "9fb4ea09ea04f8f1"
  },
  {
   "cell_type": "code",
   "execution_count": 10,
   "outputs": [
    {
     "name": "stdout",
     "output_type": "stream",
     "text": [
      " Volume in drive C has no label.\n",
      " Volume Serial Number is 4617-580E\n",
      "\n",
      " Directory of C:\\Users\\itsma\\Documents\\GitHub\\2d_to_3d_image\\ZoeDepth_Testing\n",
      "\n",
      "08/29/2023  11:10 PM    <DIR>          .\n",
      "08/29/2023  11:10 PM    <DIR>          ..\n",
      "08/29/2023  11:10 PM             8,091 run_local.ipynb\n",
      "08/29/2023  11:08 PM    <DIR>          ZoeDepth\n",
      "               1 File(s)          8,091 bytes\n",
      "               3 Dir(s)  427,137,966,080 bytes free\n"
     ]
    }
   ],
   "source": [
    "ls"
   ],
   "metadata": {
    "collapsed": false,
    "ExecuteTime": {
     "end_time": "2023-08-29T17:10:13.675357200Z",
     "start_time": "2023-08-29T17:10:13.654360500Z"
    }
   },
   "id": "396d2b0a5bbb8cfe"
  }
 ],
 "metadata": {
  "kernelspec": {
   "display_name": "Python 3",
   "language": "python",
   "name": "python3"
  },
  "language_info": {
   "codemirror_mode": {
    "name": "ipython",
    "version": 2
   },
   "file_extension": ".py",
   "mimetype": "text/x-python",
   "name": "python",
   "nbconvert_exporter": "python",
   "pygments_lexer": "ipython2",
   "version": "2.7.6"
  }
 },
 "nbformat": 4,
 "nbformat_minor": 5
}
