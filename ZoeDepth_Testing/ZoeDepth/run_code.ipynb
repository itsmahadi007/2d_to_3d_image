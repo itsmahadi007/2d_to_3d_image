{
 "cells": [
  {
   "cell_type": "code",
   "execution_count": 1,
   "outputs": [
    {
     "name": "stdout",
     "output_type": "stream",
     "text": [
      "img_size [384, 512]\n"
     ]
    },
    {
     "name": "stderr",
     "output_type": "stream",
     "text": [
      "Using cache found in C:\\Users\\itsma/.cache\\torch\\hub\\intel-isl_MiDaS_master\n",
      "C:\\Users\\itsma\\Documents\\GitHub\\2d_to_3d_image\\ZoeDepth_Testing\\venv\\lib\\site-packages\\torch\\functional.py:504: UserWarning: torch.meshgrid: in an upcoming release, it will be required to pass the indexing argument. (Triggered internally at ..\\aten\\src\\ATen\\native\\TensorShape.cpp:3191.)\n",
      "  return _VF.meshgrid(tensors, **kwargs)  # type: ignore[attr-defined]\n"
     ]
    },
    {
     "name": "stdout",
     "output_type": "stream",
     "text": [
      "Params passed to Resize transform:\n",
      "\twidth:  512\n",
      "\theight:  384\n",
      "\tresize_target:  True\n",
      "\tkeep_aspect_ratio:  True\n",
      "\tensure_multiple_of:  32\n",
      "\tresize_method:  minimal\n",
      "Using pretrained resource url::https://github.com/isl-org/ZoeDepth/releases/download/v1.0/ZoeD_M12_N.pt\n",
      "Loaded successfully\n"
     ]
    }
   ],
   "source": [
    "import torch\n",
    "\n",
    "# Zoe_N\n",
    "model_zoe_n = torch.hub.load(\".\", \"ZoeD_N\", source=\"local\", pretrained=True)"
   ],
   "metadata": {
    "collapsed": false,
    "ExecuteTime": {
     "end_time": "2023-08-29T20:01:57.268457700Z",
     "start_time": "2023-08-29T20:01:49.787984900Z"
    }
   },
   "id": "26ec8b03cd6ed153"
  },
  {
   "cell_type": "code",
   "execution_count": 3,
   "outputs": [
    {
     "name": "stdout",
     "output_type": "stream",
     "text": [
      "Image loaded from URL\n",
      "Saved raw depth to ./imgs/output.png\n"
     ]
    }
   ],
   "source": [
    "##### sample prediction\n",
    "DEVICE = \"cuda\" if torch.cuda.is_available() else \"cpu\"\n",
    "zoe = model_zoe_n.to(DEVICE)\n",
    "\n",
    "\n",
    "# Local file\n",
    "from PIL import Image\n",
    "image = Image.open(\"./imgs/image.jpg\").convert(\"RGB\")  # load\n",
    "depth_numpy = zoe.infer_pil(image)  # as numpy\n",
    "\n",
    "depth_pil = zoe.infer_pil(image, output_type=\"pil\")  # as 16-bit PIL Image\n",
    "\n",
    "depth_tensor = zoe.infer_pil(image, output_type=\"tensor\")  # as torch tensor\n",
    "\n",
    "\n",
    "\n",
    "# Tensor \n",
    "from zoedepth.utils.misc import pil_to_batched_tensor\n",
    "X = pil_to_batched_tensor(image).to(DEVICE)\n",
    "depth_tensor = zoe.infer(X)\n",
    "\n",
    "\n",
    "\n",
    "# From URL\n",
    "from zoedepth.utils.misc import get_image_from_url\n",
    "\n",
    "# Example URL\n",
    "URL = \"https://encrypted-tbn0.gstatic.com/images?q=tbn:ANd9GcS4W8H_Nxk_rs3Vje_zj6mglPOH7bnPhQitBH8WkqjlqQVotdtDEG37BsnGofME3_u6lDk&usqp=CAU\"\n",
    "\n",
    "\n",
    "# image = get_image_from_url(URL)  # fetch\n",
    "depth = zoe.infer_pil(image)\n",
    "print(\"Image loaded from URL\")\n",
    "\n",
    "# Save raw\n",
    "from zoedepth.utils.misc import save_raw_16bit\n",
    "fpath = \"./imgs/output.png\"\n",
    "save_raw_16bit(depth, fpath)\n",
    "\n",
    "# Colorize output\n",
    "from zoedepth.utils.misc import colorize\n",
    "\n",
    "colored = colorize(depth)\n",
    "\n",
    "# save colored output\n",
    "fpath_colored = \"./imgs/output_colored.png\"\n",
    "Image.fromarray(colored).save(fpath_colored)"
   ],
   "metadata": {
    "collapsed": false,
    "ExecuteTime": {
     "end_time": "2023-08-29T20:04:58.701926Z",
     "start_time": "2023-08-29T20:03:48.656526Z"
    }
   },
   "id": "d00d0f36634bc4b7"
  },
  {
   "cell_type": "code",
   "execution_count": null,
   "outputs": [],
   "source": [],
   "metadata": {
    "collapsed": false
   },
   "id": "9d3573d03340ef90"
  }
 ],
 "metadata": {
  "kernelspec": {
   "display_name": "Python 3",
   "language": "python",
   "name": "python3"
  },
  "language_info": {
   "codemirror_mode": {
    "name": "ipython",
    "version": 2
   },
   "file_extension": ".py",
   "mimetype": "text/x-python",
   "name": "python",
   "nbconvert_exporter": "python",
   "pygments_lexer": "ipython2",
   "version": "2.7.6"
  }
 },
 "nbformat": 4,
 "nbformat_minor": 5
}
